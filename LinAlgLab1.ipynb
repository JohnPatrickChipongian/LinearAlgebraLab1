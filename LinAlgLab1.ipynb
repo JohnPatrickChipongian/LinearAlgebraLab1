{
 "cells": [
  {
   "cell_type": "markdown",
   "metadata": {},
   "source": [
    "<h1>Linear Algebra (CpE210A)</h1>"
   ]
  },
  {
   "cell_type": "markdown",
   "metadata": {},
   "source": [
    "\n",
    "<br>\n",
    "\n",
    "<h3>Laboratory 1: Getting acquainted with Python</h3>"
   ]
  },
  {
   "cell_type": "markdown",
   "metadata": {},
   "source": [
    "Coded and submitted by:\n",
    "<br>Chipongian, John Patrick Ryan J.\n",
    "<br>58010"
   ]
  },
  {
   "cell_type": "markdown",
   "metadata": {},
   "source": [
    "<h4>Lab Exercises:</h4>"
   ]
  },
  {
   "cell_type": "code",
   "execution_count": 9,
   "metadata": {},
   "outputs": [],
   "source": [
    "party = ['Charmander', 'Pidgey', 'Sandshrew', 'Rattata', 'Abra']\n",
    "levels = [15, 11, 18, 5, 14]"
   ]
  },
  {
   "cell_type": "code",
   "execution_count": 35,
   "metadata": {},
   "outputs": [
    {
     "name": "stdout",
     "output_type": "stream",
     "text": [
      "Charmander at level  15\n",
      "Pidgey at level  11\n",
      "Sandshrew at level  18\n",
      "Rattata at level  5\n",
      "Abra at level  14\n"
     ]
    }
   ],
   "source": [
    "print(party[0],\"at level \",levels[0])      ## Prints the first item of the lists party and levels\n",
    "print(party[1],\"at level \",levels[1])      ## Prints the second item of the lists party and levels\n",
    "print(party[2],\"at level \",levels[2])      ## Prints the third item of the lists party and levels\n",
    "print(party[3],\"at level \",levels[3])      ## Prints the fourth item of the lists party and levels\n",
    "print(party[4],\"at level \",levels[4])      ## Prints the fifth item of the lists party and levels"
   ]
  },
  {
   "cell_type": "code",
   "execution_count": 36,
   "metadata": {},
   "outputs": [
    {
     "name": "stdout",
     "output_type": "stream",
     "text": [
      "['Unown', 'Magikarp', 'Feebas']\n"
     ]
    }
   ],
   "source": [
    "reserves = [\n",
    "    ('Onix',10),\n",
    "    ('Slowpoke',18),\n",
    "    ('Dialga',2),\n",
    "    ('Magikarp',32),\n",
    "    ('Feebas',22),\n",
    "    ('Swablu',19),\n",
    "    ('Regigigas',3),\n",
    "    ('Unown',50)\n",
    "]\n",
    "def pokemon_level(reserves):                               ## Function to sort the list(reserves) from the its 2nd item\n",
    "\n",
    "    reserves.sort(key = lambda x: x[1], reverse = True)    ## Sorts the list from the from the 2nd item in descending order\n",
    "    return reserves                                        ## Returns the sorted list\n",
    "\n",
    "x = pokemon_level(reserves)                                ## Assigning the sorted list into a variable\n",
    "print([x [0] for x in reserves[0:3]])                      ## Prints the first three elements of the sorted value"
   ]
  },
  {
   "cell_type": "code",
   "execution_count": 54,
   "metadata": {},
   "outputs": [
    {
     "name": "stdout",
     "output_type": "stream",
     "text": [
      "['Charmander', 'Pidgey', 'Sandshrew', 'Rattata', 'Abra', 'Unown']\n",
      "['Charmander', 'Pidgey', 'Sandshrew', 'Rattata', 'Abra', 'Magikarp']\n",
      "['Charmander', 'Pidgey', 'Sandshrew', 'Rattata', 'Abra', 'Feebas']\n"
     ]
    }
   ],
   "source": [
    "def create_party(party, candidates):\n",
    "    return suggested_parties == party, x\n",
    "\n",
    "party = ['Charmander', 'Pidgey', 'Sandshrew', 'Rattata', 'Abra']\n",
    "x = pokemon_level(reserves)\n",
    "\n",
    "party.append(x[0][0])                                                 ## Adds the pokemon with the highest level\n",
    "print(party)\n",
    "party.pop()                                                           ## Removes the last pokemon from the list\n",
    "party.append(x[1][0])                                                 ## Adds the pokemon with the second highest level\n",
    "print(party)\n",
    "party.pop()                                                           ## Removes the last pokemon from the list\n",
    "party.append(x[2][0])                                                 ## Adds the pokemon with the third highest level\n",
    "print(party)"
   ]
  }
 ],
 "metadata": {
  "kernelspec": {
   "display_name": "Python 3",
   "language": "python",
   "name": "python3"
  },
  "language_info": {
   "codemirror_mode": {
    "name": "ipython",
    "version": 3
   },
   "file_extension": ".py",
   "mimetype": "text/x-python",
   "name": "python",
   "nbconvert_exporter": "python",
   "pygments_lexer": "ipython3",
   "version": "3.8.3"
  }
 },
 "nbformat": 4,
 "nbformat_minor": 4
}
